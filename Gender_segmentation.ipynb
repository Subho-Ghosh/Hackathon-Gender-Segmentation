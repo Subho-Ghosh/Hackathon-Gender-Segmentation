{
 "cells": [
  {
   "cell_type": "markdown",
   "metadata": {},
   "source": [
    "#### Import relevant modules"
   ]
  },
  {
   "cell_type": "code",
   "execution_count": 2,
   "metadata": {},
   "outputs": [
    {
     "name": "stderr",
     "output_type": "stream",
     "text": [
      "Using TensorFlow backend.\n"
     ]
    }
   ],
   "source": [
    "import pandas as pd\n",
    "import numpy as np\n",
    "import os,math,timeit,time,json\n",
    "import matplotlib.pyplot as plt\n",
    "import seaborn as sns\n",
    "import dask.dataframe as dd\n",
    "\n",
    "from sklearn import preprocessing\n",
    "from sklearn.model_selection import train_test_split,GridSearchCV,StratifiedKFold,RandomizedSearchCV\n",
    "from sklearn import metrics\n",
    "from sklearn.preprocessing import MinMaxScaler,StandardScaler\n",
    "from imblearn.over_sampling import SMOTE\n",
    "from sklearn.feature_selection import SelectFromModel\n",
    "\n",
    "from sklearn.tree import DecisionTreeClassifier\n",
    "from sklearn.ensemble import RandomForestClassifier,ExtraTreesClassifier,AdaBoostClassifier\n",
    "from sklearn.linear_model import LogisticRegression,SGDClassifier\n",
    "from sklearn.neighbors import KNeighborsClassifier\n",
    "from sklearn.svm import SVC\n",
    "from sklearn.neural_network import MLPClassifier\n",
    "from sklearn.gaussian_process import GaussianProcessClassifier\n",
    "from sklearn.gaussian_process.kernels import RBF\n",
    "from sklearn.naive_bayes import GaussianNB,MultinomialNB\n",
    "from sklearn.discriminant_analysis import QuadraticDiscriminantAnalysis\n",
    "from sklearn.ensemble import GradientBoostingClassifier\n",
    "from xgboost.sklearn import XGBClassifier\n",
    "\n",
    "# neural network\n",
    "from keras import Sequential,models,regularizers,layers\n",
    "from keras.models import load_model\n",
    "from keras.layers import Dense,Dropout\n",
    "from keras.callbacks import EarlyStopping\n",
    "from keras.callbacks import ModelCheckpoint\n",
    "\n",
    "import feature_selection_ga as FSGA"
   ]
  },
  {
   "cell_type": "markdown",
   "metadata": {},
   "source": [
    "#### Define required help functions"
   ]
  },
  {
   "cell_type": "code",
   "execution_count": 3,
   "metadata": {},
   "outputs": [],
   "source": [
    "def parse_json_file(filename):\n",
    "    '''\n",
    "       Convert a large json file into a Pandas Dataframe\n",
    "    '''\n",
    "    with open(filename,'rb') as json_file:\n",
    "        data = json_file.readlines()\n",
    "        # It converts all strings in list to actual json objects. This is faster than pandas read_json\n",
    "        data = list(map(json.loads, data)) \n",
    "    return pd.DataFrame(data)"
   ]
  },
  {
   "cell_type": "code",
   "execution_count": 4,
   "metadata": {},
   "outputs": [],
   "source": [
    "def list_to_string(colnames,dfname):\n",
    "    '''\n",
    "       Convert the list values in colnames into strings\n",
    "    '''\n",
    "    for col in colnames:\n",
    "        dfname[col].fillna(value='',inplace=True)\n",
    "        dfname[col]= [','.join(map(str, l)) for l in dfname[col] ]\n",
    "    return dfname"
   ]
  },
  {
   "cell_type": "code",
   "execution_count": 5,
   "metadata": {},
   "outputs": [],
   "source": [
    "def dedup_data(df,keylist = []):\n",
    "    ''' remove full row duplicates from the given dataframe    '''\n",
    "    if not keylist:\n",
    "        return df.drop_duplicates(keep='first') \n",
    "    else:\n",
    "        return df.drop_duplicates(subset = keylist,keep='first')"
   ]
  },
  {
   "cell_type": "code",
   "execution_count": 6,
   "metadata": {},
   "outputs": [],
   "source": [
    "def prep_Data(df):\n",
    "    '''A generic function to load a given file, display basic analysis and return a pandas dataframe'''     \n",
    "    \n",
    "    percent_missing = df.isnull().sum() * 100 / len(df)\n",
    "    missing_value_df = pd.DataFrame({'column_name': df.columns,'percent_missing': percent_missing})\n",
    "    missing_value_df.sort_values('percent_missing',ascending =False, inplace=True)\n",
    "    \n",
    "    print('\\n Basic Metadata \\n')\n",
    "    print(df.info())\n",
    "    print('\\n Missing values information \\n')\n",
    "    print(missing_value_df[missing_value_df.percent_missing>0])\n",
    "    \n",
    "    return df "
   ]
  },
  {
   "cell_type": "code",
   "execution_count": 7,
   "metadata": {},
   "outputs": [],
   "source": [
    "def imputeNulls(df):\n",
    "    ''' Find and impute null/missing values based on data type'''\n",
    "    \n",
    "    nullcols = df.columns[df.isna().any()].tolist()    \n",
    "    \n",
    "    for c in nullcols:\n",
    "        if df[c].dtype=='object':\n",
    "            df[c] = df[c].fillna('')\n",
    "        else:\n",
    "            df[c] = df[c].fillna(0)\n",
    "    \n",
    "    print('\\n List of columns with missing values now :',df.columns[df.isna().any()].tolist())\n",
    "        \n",
    "    return df"
   ]
  },
  {
   "cell_type": "code",
   "execution_count": 8,
   "metadata": {},
   "outputs": [],
   "source": [
    "def encode_cols(df,target_col=''):\n",
    "    '''Encode all categorical columns'''\n",
    "    #prepare list of all categorical variables in the dataset\n",
    "    catlist = df.select_dtypes(include='object').columns.tolist() \n",
    "    if target_col:\n",
    "        catlist = [ c for c in catlist if c!=target_col]\n",
    "        df[target_col] = df[target_col].apply(lambda x:0 if x=='F' else 1)\n",
    "    \n",
    "        \n",
    "    label_encoder = preprocessing.LabelEncoder() \n",
    "    df[catlist] = df[catlist].apply(label_encoder.fit_transform)   \n",
    "      \n",
    "    \n",
    "    return df"
   ]
  },
  {
   "cell_type": "code",
   "execution_count": 9,
   "metadata": {},
   "outputs": [],
   "source": [
    "def scale_cols(df,scaler,excep_list):\n",
    "    '''Scale continuous variables in data'''    \n",
    "    \n",
    "    #prepare list of all continuos variables in the dataset\n",
    "    contvars = df.select_dtypes(exclude='object').columns.tolist()     \n",
    "    contvars = [c for c in contvars if c not in excep_list]\n",
    "    \n",
    "    df[contvars] = scaler.fit_transform(df[contvars])    \n",
    "    return df"
   ]
  },
  {
   "cell_type": "code",
   "execution_count": 10,
   "metadata": {},
   "outputs": [],
   "source": [
    "def class_dist(df,target_col):\n",
    "    '''Produce a graph of target class distribution for analysis '''\n",
    "    \n",
    "    df1 = pd.crosstab(index = df[target_col], columns = \"count\")\n",
    "    df1['percent'] = df1/df1.sum() * 100\n",
    "    \n",
    "    print('\\n Check target class distribution \\n')\n",
    "    print(df1)\n",
    "    \n",
    "    # graph of class distribution of the target variable\n",
    "    df1.plot(kind='barh')\n",
    "    plt.show()\n",
    "    return None"
   ]
  },
  {
   "cell_type": "code",
   "execution_count": 11,
   "metadata": {},
   "outputs": [],
   "source": [
    "def level_chk(df):\n",
    "    '''Show the numbe rof levels of each feature in dataframe'''\n",
    "    \n",
    "    cols = df.select_dtypes(exclude='object').columns.tolist()\n",
    "    nlevels = [ (c,df[c].nunique()) for c in cols]\n",
    "    \n",
    "    print(pd.DataFrame(sorted(nlevels,key = lambda x:x[1]),columns = ['col_name','n_levels']))\n",
    "    return None "
   ]
  },
  {
   "cell_type": "code",
   "execution_count": 12,
   "metadata": {},
   "outputs": [],
   "source": [
    "def reduce_dims(df,target_col):  \n",
    "        cols_retained = [ c for c in df.columns if c!=target_col]\n",
    "        model = ExtraTreesClassifier(random_state=42,class_weight='balanced') # for repeatability of results\n",
    "        # send only 5k rows for quick response\n",
    "        fsga = FSGA.FeatureSelectionGA(model,df.loc[:8000,cols_retained].values\n",
    "                                       ,df.loc[:8000,target_col])\n",
    "        pop = fsga.generate(100)\n",
    "        new_retained = []\n",
    "        prev_cols = len(cols_retained)\n",
    "        \n",
    "        for ind,val in enumerate(pop):\n",
    "            if val:\n",
    "                new_retained.append(cols_retained[ind])\n",
    "        \n",
    "        cols_retained = new_retained[:]\n",
    "        print(\"\\n Columns retained after Genetic Selection Algorithm are: \\n\",cols_retained)\n",
    "        print(\"\\n {} columns retained out of {} \\n\".format(len(cols_retained),prev_cols))\n",
    "        return df[cols_retained+[target_col]]"
   ]
  },
  {
   "cell_type": "code",
   "execution_count": 13,
   "metadata": {},
   "outputs": [],
   "source": [
    "def plot_feature_imp(df,target_col):\n",
    "    '''\n",
    "    Plot a feautre importance graph for analysis\n",
    "    '''\n",
    "    \n",
    "    clf = ExtraTreesClassifier(n_estimators=10,random_state=42,class_weight='balanced') # for repeatability of results\n",
    "  \n",
    "    X = df[[c for c in df.columns if c!=target_col]]\n",
    "    y = df[target_col]\n",
    "    clf.fit(X,y)    \n",
    "    \n",
    "    pd.Series(clf.feature_importances_, index=df.columns[1:]).plot.bar(color='steelblue', figsize=(12, 18))\n",
    "    plt.show()\n",
    "    return clf,X,y"
   ]
  },
  {
   "cell_type": "code",
   "execution_count": 14,
   "metadata": {},
   "outputs": [],
   "source": [
    "def plot_corr(df):\n",
    "    # Basic correlogram\n",
    "    corr=df.corr()\n",
    "    fig, ax = plt.subplots(figsize=(12,16))\n",
    "    sns.heatmap(corr,xticklabels=corr.columns.values,yticklabels=corr.columns.values,annot=True,ax=ax)\n",
    "    plt.show()\n",
    "    return None"
   ]
  },
  {
   "cell_type": "code",
   "execution_count": 15,
   "metadata": {},
   "outputs": [],
   "source": [
    "def create_Xy(df,target_col,imbalance = 'N'):\n",
    "    '''\n",
    "    Separate the predictors from the target\n",
    "    '''\n",
    "    # assign variables and target data\n",
    "    y = df[target_col]\n",
    "    X = df.loc[:,df.columns!=target_col]\n",
    "    model_cols = X.columns # store the columns to be used as predictors\n",
    "    \n",
    "    if imbalance == 'Y':\n",
    "        # use SMOTE-Synthetic Minority Over-sampling Technique to balance out the target classes\n",
    "        sm = SMOTE(random_state=42)\n",
    "        X,y = sm.fit_resample(X, y)\n",
    "    \n",
    "    \n",
    "    print('\\n No: of predictor variables is: {} and no:of observations for training is: {} \\n'.format(X.shape[1],X.shape[0]))\n",
    "    return X,y,model_cols"
   ]
  },
  {
   "cell_type": "code",
   "execution_count": 43,
   "metadata": {},
   "outputs": [],
   "source": [
    "def creatNN(inp_cols,inp_rows,activation='relu',kernel_initializer='uniform',alpha=10,droporate=0.5):\n",
    "    base_model = models.Sequential()\n",
    "    \n",
    "    '''\n",
    "     Nh=Ns/(α∗(Ni+No))\n",
    "\n",
    "     Ni= number of input neurons(inp_cols)\n",
    "     No = number of output neurons(1)\n",
    "     Ns = number of samples in training data set(inp_rows)\n",
    "     α = an arbitrary scaling factor usually 2-10 (alpha)\n",
    "     \n",
    "     OR Nh = 2/3 *(inp_cols+1)\n",
    "     '''\n",
    "    \n",
    "    #Hidden Layer\n",
    "    #base_model.add(layers.Dense(int(inp_rows/(alpha*(inp_cols+1))), activation=activation, kernel_initializer=kernel_initializer                         \n",
    "    #                     ,kernel_regularizer=regularizers.l2(0.001),input_dim=inp_cols))\n",
    "    base_model.add(layers.Dense(int((2/3)*(inp_cols+1)+inp_cols), activation=activation, kernel_initializer=kernel_initializer                         \n",
    "                         ,kernel_regularizer=regularizers.l2(0.0018),input_dim=inp_cols))\n",
    "    base_model.add(layers.Dropout(droporate))\n",
    "    \n",
    "    #Output Layer\n",
    "    base_model.add(layers.Dense(1, activation='sigmoid', kernel_initializer=kernel_initializer))\n",
    "    \n",
    "    # compile model for a binary classification problem\n",
    "    base_model.compile(optimizer ='rmsprop',loss='binary_crossentropy', metrics =['accuracy'])\n",
    "    \n",
    "    return base_model    "
   ]
  },
  {
   "cell_type": "code",
   "execution_count": 17,
   "metadata": {},
   "outputs": [],
   "source": [
    "def F1_score(model_obj,X,y,nn='N',n=10):\n",
    "    '''Function to calculate the F1 score averaged over a n fold CV set'''\n",
    "    SEED=42    \n",
    "    mean_f1 = 0.0\n",
    "    n_cv=0\n",
    "    skf = StratifiedKFold(n_splits=n,random_state=SEED,shuffle =True)\n",
    "    \n",
    "    if nn=='Y':        \n",
    "        for train_index, test_index in skf.split(X, y):\n",
    "            n_cv+=1\n",
    "            X_train, X_cv = X[train_index], X[test_index] \n",
    "            y_train, y_cv = y[train_index], y[test_index]\n",
    "            #fit and predict the target labels for a neural network   \n",
    "            #model_obj.fit(X_train, y_train,batch_size=10, epochs=5)\n",
    "            # patient early stopping\n",
    "            es = EarlyStopping(monitor='val_loss', mode='min', verbose=1, patience=0)\n",
    "            mc = ModelCheckpoint('best_model.h5', monitor='val_acc', mode='max', verbose=1, save_best_only=True)\n",
    "            # fit model, make sure to load the best model trained over the last cv fold\n",
    "            if n_cv>1:\n",
    "                model_obj = load_model('best_model.h5')\n",
    "            history = model_obj.fit(X_train, y_train, validation_data=(X_cv, y_cv), epochs=10, callbacks=[es,mc])\n",
    "            # evaluate the model\n",
    "            _, train_acc = model_obj.evaluate(X_train, y_train, verbose=0)\n",
    "            _, test_acc = model_obj.evaluate(X_cv, y_cv, verbose=0)\n",
    "            print('Train: %.3f, Test: %.3f' % (train_acc, test_acc))\n",
    "            # plot training history\n",
    "            plt.plot(history.history['loss'], label='train')\n",
    "            plt.plot(history.history['val_loss'], label='test')\n",
    "            plt.legend()\n",
    "            plt.show()\n",
    "            \n",
    "            preds = model_obj.predict(X_cv)\n",
    "            preds = (preds>0.5).astype(int)            \n",
    "\n",
    "            # compute f1 metric for this CV fold\n",
    "            f1_score = metrics.f1_score(y_cv, preds,average='macro')\n",
    "            print(\"\\n Best F1 score for CV fold no:{} was:{}\\n\".format(n_cv,f1_score))\n",
    "            mean_f1 += f1_score\n",
    "        # load the saved model\n",
    "        model_obj = load_model('best_model.h5')\n",
    "        # evaluate the model\n",
    "        _, train_acc = model_obj.evaluate(X_train, y_train, verbose=0)\n",
    "        _, test_acc = model_obj.evaluate(X_cv, y_cv, verbose=0)\n",
    "        print('\\n Best Model has the following scores :\\n')\n",
    "        print('Train: %.3f, Test: %.3f' % (train_acc, test_acc))\n",
    "    else:\n",
    "        for train_index, test_index in skf.split(X, y): \n",
    "            n_cv+=1\n",
    "            X_train, X_cv = X[train_index], X[test_index] \n",
    "            y_train, y_cv = y[train_index], y[test_index]\n",
    "            #fit and predict the target labels    \n",
    "            model_obj.fit(X_train, y_train)\n",
    "            preds = model_obj.predict(X_cv)     \n",
    "\n",
    "            # compute f1 metric for this CV fold\n",
    "            f1_score = metrics.f1_score(y_cv, preds,average='macro')  \n",
    "            print(\"\\n F1 score for CV fold no:{} was:{}\\n\".format(n_cv,f1_score))\n",
    "            mean_f1 += f1_score\n",
    "    return  (mean_f1/n),model_obj"
   ]
  },
  {
   "cell_type": "markdown",
   "metadata": {},
   "source": [
    "> Stage 1: <b> Load Data, Deduplicate and Merge the 3 separate datasets </b>"
   ]
  },
  {
   "cell_type": "code",
   "execution_count": 18,
   "metadata": {},
   "outputs": [],
   "source": [
    "# 1. Process the urls data file\n",
    "\n",
    "filename = 'Urls_data.txt'\n",
    "df_urls_data =  parse_json_file(filename) # use helper JSON function to load the file\n",
    "\n",
    "df_urls_data = list_to_string(['alt_titles','entities','tags'],df_urls_data) # convert list data to strings\n",
    "\n",
    "df_urls_data = dedup_data(df_urls_data,keylist=['link']) # dedupe records based on link"
   ]
  },
  {
   "cell_type": "code",
   "execution_count": 19,
   "metadata": {
    "scrolled": true
   },
   "outputs": [],
   "source": [
    "df_urls_data.id.nunique()\n",
    "# id column is not statistically significant as its generated by a system and is unqiue for each observation \n",
    "# We remove it at this stage itself as we know our Objective is Prediction\n",
    "# we also drop the description column as it is just a shortened form of long description and carries no extra info\n",
    "df_urls_data.drop(['id','description'],axis=1,inplace=True)"
   ]
  },
  {
   "cell_type": "markdown",
   "metadata": {
    "scrolled": false
   },
   "source": [
    "##### Perform basic EDA on the processed Urls Data File"
   ]
  },
  {
   "cell_type": "code",
   "execution_count": 20,
   "metadata": {},
   "outputs": [
    {
     "data": {
      "text/html": [
       "<div>\n",
       "<style scoped>\n",
       "    .dataframe tbody tr th:only-of-type {\n",
       "        vertical-align: middle;\n",
       "    }\n",
       "\n",
       "    .dataframe tbody tr th {\n",
       "        vertical-align: top;\n",
       "    }\n",
       "\n",
       "    .dataframe thead th {\n",
       "        text-align: right;\n",
       "    }\n",
       "</style>\n",
       "<table border=\"1\" class=\"dataframe\">\n",
       "  <thead>\n",
       "    <tr style=\"text-align: right;\">\n",
       "      <th></th>\n",
       "      <th>alt_titles</th>\n",
       "      <th>brand</th>\n",
       "      <th>entities</th>\n",
       "      <th>link</th>\n",
       "      <th>long_description</th>\n",
       "      <th>tags</th>\n",
       "      <th>title</th>\n",
       "    </tr>\n",
       "  </thead>\n",
       "  <tbody>\n",
       "    <tr>\n",
       "      <th>0</th>\n",
       "      <td></td>\n",
       "      <td>ET</td>\n",
       "      <td>Land Rover</td>\n",
       "      <td>https://economictimes.indiatimes.com/industry/...</td>\n",
       "      <td>Default Agency Option of electrification The c...</td>\n",
       "      <td></td>\n",
       "      <td>Tata-owned JLR launches new luxury SUV- Range ...</td>\n",
       "    </tr>\n",
       "    <tr>\n",
       "      <th>1</th>\n",
       "      <td></td>\n",
       "      <td>ET</td>\n",
       "      <td></td>\n",
       "      <td>https://economictimes.indiatimes.com/auto-comp...</td>\n",
       "      <td>Flipboard Google Plus Forget Tesla, this India...</td>\n",
       "      <td></td>\n",
       "      <td>Forget Tesla, this Indian battery can change t...</td>\n",
       "    </tr>\n",
       "    <tr>\n",
       "      <th>2</th>\n",
       "      <td></td>\n",
       "      <td>ET</td>\n",
       "      <td>Prime Minister Narendra Modi,Ganga</td>\n",
       "      <td>https://economictimes.indiatimes.com/news/poli...</td>\n",
       "      <td>Flipboard Google Plus Water quality of Ganga h...</td>\n",
       "      <td></td>\n",
       "      <td>Water quality of Ganga has worsened in 3 years...</td>\n",
       "    </tr>\n",
       "    <tr>\n",
       "      <th>3</th>\n",
       "      <td></td>\n",
       "      <td>ET</td>\n",
       "      <td>Prime Minister Narendra Modi</td>\n",
       "      <td>https://economictimes.indiatimes.com/news/elec...</td>\n",
       "      <td>Mar 04, 2019, 07.42 AM IST 0Comments PTI He to...</td>\n",
       "      <td></td>\n",
       "      <td>Statements made by opposition are making enemi...</td>\n",
       "    </tr>\n",
       "    <tr>\n",
       "      <th>4</th>\n",
       "      <td></td>\n",
       "      <td>ET</td>\n",
       "      <td>Sandip Sabharwal,Basant Maheshwari</td>\n",
       "      <td>https://economictimes.indiatimes.com/markets/s...</td>\n",
       "      <td>Mar 17, 2019, 10.38 AM IST 0Comments AP Tweets...</td>\n",
       "      <td></td>\n",
       "      <td>Tweet Buster: Top investment tips and what dis...</td>\n",
       "    </tr>\n",
       "  </tbody>\n",
       "</table>\n",
       "</div>"
      ],
      "text/plain": [
       "  alt_titles brand                            entities  \\\n",
       "0               ET                          Land Rover   \n",
       "1               ET                                       \n",
       "2               ET  Prime Minister Narendra Modi,Ganga   \n",
       "3               ET        Prime Minister Narendra Modi   \n",
       "4               ET  Sandip Sabharwal,Basant Maheshwari   \n",
       "\n",
       "                                                link  \\\n",
       "0  https://economictimes.indiatimes.com/industry/...   \n",
       "1  https://economictimes.indiatimes.com/auto-comp...   \n",
       "2  https://economictimes.indiatimes.com/news/poli...   \n",
       "3  https://economictimes.indiatimes.com/news/elec...   \n",
       "4  https://economictimes.indiatimes.com/markets/s...   \n",
       "\n",
       "                                    long_description tags  \\\n",
       "0  Default Agency Option of electrification The c...        \n",
       "1  Flipboard Google Plus Forget Tesla, this India...        \n",
       "2  Flipboard Google Plus Water quality of Ganga h...        \n",
       "3  Mar 04, 2019, 07.42 AM IST 0Comments PTI He to...        \n",
       "4  Mar 17, 2019, 10.38 AM IST 0Comments AP Tweets...        \n",
       "\n",
       "                                               title  \n",
       "0  Tata-owned JLR launches new luxury SUV- Range ...  \n",
       "1  Forget Tesla, this Indian battery can change t...  \n",
       "2  Water quality of Ganga has worsened in 3 years...  \n",
       "3  Statements made by opposition are making enemi...  \n",
       "4  Tweet Buster: Top investment tips and what dis...  "
      ]
     },
     "execution_count": 20,
     "metadata": {},
     "output_type": "execute_result"
    }
   ],
   "source": [
    "df_urls_data.head() # note that columns with missing values show up as empty"
   ]
  },
  {
   "cell_type": "code",
   "execution_count": 21,
   "metadata": {},
   "outputs": [],
   "source": [
    "# 2. Process the main Training data file with UserId and Gender information\n",
    "\n",
    "df_userId_gender = pd.read_csv('UserIdToGender_Train.csv')\n",
    "df_userId_gender = dedup_data(df_userId_gender,keylist=['userid']) # dedupe the data based on userid"
   ]
  },
  {
   "cell_type": "markdown",
   "metadata": {
    "scrolled": false
   },
   "source": [
    "##### Perform basic EDA on the processed URL to Gender Data File"
   ]
  },
  {
   "cell_type": "code",
   "execution_count": 22,
   "metadata": {},
   "outputs": [
    {
     "data": {
      "text/plain": [
       "(229444, 2)"
      ]
     },
     "execution_count": 22,
     "metadata": {},
     "output_type": "execute_result"
    }
   ],
   "source": [
    "df_userId_gender.shape"
   ]
  },
  {
   "cell_type": "code",
   "execution_count": 23,
   "metadata": {
    "scrolled": true
   },
   "outputs": [
    {
     "data": {
      "text/html": [
       "<div>\n",
       "<style scoped>\n",
       "    .dataframe tbody tr th:only-of-type {\n",
       "        vertical-align: middle;\n",
       "    }\n",
       "\n",
       "    .dataframe tbody tr th {\n",
       "        vertical-align: top;\n",
       "    }\n",
       "\n",
       "    .dataframe thead th {\n",
       "        text-align: right;\n",
       "    }\n",
       "</style>\n",
       "<table border=\"1\" class=\"dataframe\">\n",
       "  <thead>\n",
       "    <tr style=\"text-align: right;\">\n",
       "      <th></th>\n",
       "      <th>userid</th>\n",
       "      <th>gender</th>\n",
       "    </tr>\n",
       "  </thead>\n",
       "  <tbody>\n",
       "    <tr>\n",
       "      <th>0</th>\n",
       "      <td>4834460</td>\n",
       "      <td>M</td>\n",
       "    </tr>\n",
       "    <tr>\n",
       "      <th>1</th>\n",
       "      <td>4834437</td>\n",
       "      <td>M</td>\n",
       "    </tr>\n",
       "    <tr>\n",
       "      <th>2</th>\n",
       "      <td>4834411</td>\n",
       "      <td>F</td>\n",
       "    </tr>\n",
       "    <tr>\n",
       "      <th>3</th>\n",
       "      <td>4834405</td>\n",
       "      <td>M</td>\n",
       "    </tr>\n",
       "    <tr>\n",
       "      <th>4</th>\n",
       "      <td>4834352</td>\n",
       "      <td>M</td>\n",
       "    </tr>\n",
       "  </tbody>\n",
       "</table>\n",
       "</div>"
      ],
      "text/plain": [
       "    userid gender\n",
       "0  4834460      M\n",
       "1  4834437      M\n",
       "2  4834411      F\n",
       "3  4834405      M\n",
       "4  4834352      M"
      ]
     },
     "execution_count": 23,
     "metadata": {},
     "output_type": "execute_result"
    }
   ],
   "source": [
    "df_userId_gender.head() "
   ]
  },
  {
   "cell_type": "code",
   "execution_count": 24,
   "metadata": {},
   "outputs": [
    {
     "name": "stdout",
     "output_type": "stream",
     "text": [
      "length of filepart-00000 is:4376400 \n",
      "length of filepart-00001 is:4714985 \n",
      "length of filepart-00002 is:4655516 \n",
      "length of filepart-00003 is:4515605 \n",
      "length of filepart-00004 is:4478587 \n",
      "length of filepart-00005 is:4566880 \n",
      "length of filepart-00006 is:4230262 \n",
      "length of filepart-00007 is:4665940 \n",
      "length of filepart-00008 is:4564013 \n",
      "length of filepart-00009 is:4376976 \n",
      "length of filepart-00010 is:4618130 \n",
      "length of filepart-00011 is:4696663 \n",
      "Elapsed Time approx :10.682767652266667 minutes\n"
     ]
    }
   ],
   "source": [
    "# 3. Process the part files with UserId and URL information\n",
    "\n",
    "UserIdToUrl_part_files = [ f for f in os.listdir() if f.find('part',0,4)!=-1] # collect all filenames of the 11 part files\n",
    "\n",
    "# this is lengthy process and takes around 15-18 minutes. This uses dask parallelized dataframes \n",
    "# as they are faster than Pandas dataframes\n",
    "\n",
    "start_time = timeit.default_timer()\n",
    "\n",
    "file_list=[]\n",
    "for f in UserIdToUrl_part_files:\n",
    "    csv_f = dd.read_csv(f, usecols = range(2),low_memory=False)\n",
    "    print('length of file{} is:{} '.format(f,len(csv_f)))\n",
    "    file_list.append(csv_f) \n",
    "df_userId_url = dd.concat(file_list,axis=0)\n",
    "\n",
    "# convert the distributed dask dataframes to a pandas dataframe \n",
    "df_userId_url = df_userId_url.compute()\n",
    "\n",
    "df_userId_url=dedup_data(df_userId_url,keylist=['userid']) # dedupe the records\n",
    "\n",
    "print('Elapsed Time approx :{} minutes'.format((timeit.default_timer() - start_time)/60))"
   ]
  },
  {
   "cell_type": "markdown",
   "metadata": {
    "scrolled": false
   },
   "source": [
    "##### Perform basic EDA on the processed UserId to URL Data File"
   ]
  },
  {
   "cell_type": "code",
   "execution_count": 25,
   "metadata": {},
   "outputs": [
    {
     "data": {
      "text/plain": [
       "(317828, 2)"
      ]
     },
     "execution_count": 25,
     "metadata": {},
     "output_type": "execute_result"
    }
   ],
   "source": [
    "df_userId_url.shape # note that a single userID may be attached to multiple URLs"
   ]
  },
  {
   "cell_type": "code",
   "execution_count": 26,
   "metadata": {},
   "outputs": [
    {
     "data": {
      "text/html": [
       "<div>\n",
       "<style scoped>\n",
       "    .dataframe tbody tr th:only-of-type {\n",
       "        vertical-align: middle;\n",
       "    }\n",
       "\n",
       "    .dataframe tbody tr th {\n",
       "        vertical-align: top;\n",
       "    }\n",
       "\n",
       "    .dataframe thead th {\n",
       "        text-align: right;\n",
       "    }\n",
       "</style>\n",
       "<table border=\"1\" class=\"dataframe\">\n",
       "  <thead>\n",
       "    <tr style=\"text-align: right;\">\n",
       "      <th></th>\n",
       "      <th>userid</th>\n",
       "      <th>url</th>\n",
       "    </tr>\n",
       "  </thead>\n",
       "  <tbody>\n",
       "    <tr>\n",
       "      <th>0</th>\n",
       "      <td>2616607</td>\n",
       "      <td>http://timesofindia.indiatimes.com/</td>\n",
       "    </tr>\n",
       "    <tr>\n",
       "      <th>13</th>\n",
       "      <td>2316835</td>\n",
       "      <td>https://timesofindia.indiatimes.com/blogs/Swam...</td>\n",
       "    </tr>\n",
       "    <tr>\n",
       "      <th>89</th>\n",
       "      <td>3503424</td>\n",
       "      <td>http://nprssfeeds.indiatimes.com/feeds/appnavi...</td>\n",
       "    </tr>\n",
       "    <tr>\n",
       "      <th>97</th>\n",
       "      <td>3241218</td>\n",
       "      <td>https://timesofindia.indiatimes.com/interestin...</td>\n",
       "    </tr>\n",
       "    <tr>\n",
       "      <th>128</th>\n",
       "      <td>4121856</td>\n",
       "      <td>https://timesofindia.indiatimes.com/india</td>\n",
       "    </tr>\n",
       "  </tbody>\n",
       "</table>\n",
       "</div>"
      ],
      "text/plain": [
       "      userid                                                url\n",
       "0    2616607                http://timesofindia.indiatimes.com/\n",
       "13   2316835  https://timesofindia.indiatimes.com/blogs/Swam...\n",
       "89   3503424  http://nprssfeeds.indiatimes.com/feeds/appnavi...\n",
       "97   3241218  https://timesofindia.indiatimes.com/interestin...\n",
       "128  4121856          https://timesofindia.indiatimes.com/india"
      ]
     },
     "execution_count": 26,
     "metadata": {},
     "output_type": "execute_result"
    }
   ],
   "source": [
    "df_userId_url.head()"
   ]
  },
  {
   "cell_type": "markdown",
   "metadata": {},
   "source": [
    "#### Now merge and deduplicate the individual datasets"
   ]
  },
  {
   "cell_type": "code",
   "execution_count": 76,
   "metadata": {},
   "outputs": [],
   "source": [
    "#1. First, merge gender UserID to UserID to URL data using UserId as the key(Index)\n",
    "\n",
    "df_train = df_userId_gender.set_index('userid')\n",
    "df_userId_url = df_userId_url.set_index('userid')\n",
    "\n",
    "# perform left outer join to retain all data in the training(UserID, Gender) file\n",
    "df_train = df_train.merge(df_userId_url, on='userid',how='outer')\n",
    "\n",
    "df_train.reset_index(inplace=True)\n",
    "\n",
    "df_train = dedup_data(df_train) # dedupe again after the join\n",
    "\n",
    "#2. Next, merge UserID gender and URL file to URL data using url and link as keys(Index)\n",
    "\n",
    "df_train.set_index('url',inplace=True) # set index to key column for merge\n",
    "df_urls_data.set_index('link',inplace = True) # set index to key column for merge\n",
    "\n",
    "# perform left outer join to retain all data in the training(UserID, Gender) file\n",
    "df_train = df_train.merge(df_urls_data, right_on='link',left_index=True,how='outer')\n",
    "\n",
    "df_train.reset_index(inplace=True)\n",
    "\n",
    "df_train = dedup_data(df_train) # final dedupe again after all joins"
   ]
  },
  {
   "cell_type": "code",
   "execution_count": 77,
   "metadata": {
    "scrolled": false
   },
   "outputs": [
    {
     "data": {
      "text/plain": [
       "(394676, 9)"
      ]
     },
     "execution_count": 77,
     "metadata": {},
     "output_type": "execute_result"
    }
   ],
   "source": [
    "df_train.shape"
   ]
  },
  {
   "cell_type": "code",
   "execution_count": 78,
   "metadata": {
    "scrolled": true
   },
   "outputs": [
    {
     "data": {
      "text/html": [
       "<div>\n",
       "<style scoped>\n",
       "    .dataframe tbody tr th:only-of-type {\n",
       "        vertical-align: middle;\n",
       "    }\n",
       "\n",
       "    .dataframe tbody tr th {\n",
       "        vertical-align: top;\n",
       "    }\n",
       "\n",
       "    .dataframe thead th {\n",
       "        text-align: right;\n",
       "    }\n",
       "</style>\n",
       "<table border=\"1\" class=\"dataframe\">\n",
       "  <thead>\n",
       "    <tr style=\"text-align: right;\">\n",
       "      <th></th>\n",
       "      <th>link</th>\n",
       "      <th>gender</th>\n",
       "      <th>alt_titles</th>\n",
       "      <th>brand</th>\n",
       "      <th>entities</th>\n",
       "      <th>long_description</th>\n",
       "      <th>tags</th>\n",
       "      <th>title</th>\n",
       "    </tr>\n",
       "  </thead>\n",
       "  <tbody>\n",
       "    <tr>\n",
       "      <th>0</th>\n",
       "      <td>http://timesofindia.indiatimes.com/</td>\n",
       "      <td>M</td>\n",
       "      <td></td>\n",
       "      <td>TIMES OF INDIA</td>\n",
       "      <td></td>\n",
       "      <td>NaN</td>\n",
       "      <td></td>\n",
       "      <td>India News, Latest Sports, Bollywood, World,</td>\n",
       "    </tr>\n",
       "    <tr>\n",
       "      <th>1</th>\n",
       "      <td>http://timesofindia.indiatimes.com/</td>\n",
       "      <td>M</td>\n",
       "      <td></td>\n",
       "      <td>TIMES OF INDIA</td>\n",
       "      <td></td>\n",
       "      <td>NaN</td>\n",
       "      <td></td>\n",
       "      <td>India News, Latest Sports, Bollywood, World,</td>\n",
       "    </tr>\n",
       "    <tr>\n",
       "      <th>2</th>\n",
       "      <td>http://timesofindia.indiatimes.com/</td>\n",
       "      <td>M</td>\n",
       "      <td></td>\n",
       "      <td>TIMES OF INDIA</td>\n",
       "      <td></td>\n",
       "      <td>NaN</td>\n",
       "      <td></td>\n",
       "      <td>India News, Latest Sports, Bollywood, World,</td>\n",
       "    </tr>\n",
       "    <tr>\n",
       "      <th>3</th>\n",
       "      <td>http://timesofindia.indiatimes.com/</td>\n",
       "      <td>M</td>\n",
       "      <td></td>\n",
       "      <td>TIMES OF INDIA</td>\n",
       "      <td></td>\n",
       "      <td>NaN</td>\n",
       "      <td></td>\n",
       "      <td>India News, Latest Sports, Bollywood, World,</td>\n",
       "    </tr>\n",
       "    <tr>\n",
       "      <th>4</th>\n",
       "      <td>http://timesofindia.indiatimes.com/</td>\n",
       "      <td>F</td>\n",
       "      <td></td>\n",
       "      <td>TIMES OF INDIA</td>\n",
       "      <td></td>\n",
       "      <td>NaN</td>\n",
       "      <td></td>\n",
       "      <td>India News, Latest Sports, Bollywood, World,</td>\n",
       "    </tr>\n",
       "  </tbody>\n",
       "</table>\n",
       "</div>"
      ],
      "text/plain": [
       "                                  link gender alt_titles           brand  \\\n",
       "0  http://timesofindia.indiatimes.com/      M             TIMES OF INDIA   \n",
       "1  http://timesofindia.indiatimes.com/      M             TIMES OF INDIA   \n",
       "2  http://timesofindia.indiatimes.com/      M             TIMES OF INDIA   \n",
       "3  http://timesofindia.indiatimes.com/      M             TIMES OF INDIA   \n",
       "4  http://timesofindia.indiatimes.com/      F             TIMES OF INDIA   \n",
       "\n",
       "  entities long_description tags                                         title  \n",
       "0                       NaN       India News, Latest Sports, Bollywood, World,  \n",
       "1                       NaN       India News, Latest Sports, Bollywood, World,  \n",
       "2                       NaN       India News, Latest Sports, Bollywood, World,  \n",
       "3                       NaN       India News, Latest Sports, Bollywood, World,  \n",
       "4                       NaN       India News, Latest Sports, Bollywood, World,  "
      ]
     },
     "execution_count": 78,
     "metadata": {},
     "output_type": "execute_result"
    }
   ],
   "source": [
    "df_train.drop('userid',1,inplace=True)\n",
    "df_train.head()"
   ]
  },
  {
   "cell_type": "markdown",
   "metadata": {},
   "source": [
    "> Stage 2: <b> Preprocess, encode and make data ready for modelling </b>"
   ]
  },
  {
   "cell_type": "code",
   "execution_count": 79,
   "metadata": {},
   "outputs": [
    {
     "name": "stdout",
     "output_type": "stream",
     "text": [
      "\n",
      " Basic Metadata \n",
      "\n",
      "<class 'pandas.core.frame.DataFrame'>\n",
      "Int64Index: 394676 entries, 0 to 394675\n",
      "Data columns (total 8 columns):\n",
      "link                394676 non-null object\n",
      "gender              229444 non-null object\n",
      "alt_titles          256500 non-null object\n",
      "brand               256159 non-null object\n",
      "entities            256500 non-null object\n",
      "long_description    123744 non-null object\n",
      "tags                256500 non-null object\n",
      "title               256500 non-null object\n",
      "dtypes: object(8)\n",
      "memory usage: 27.1+ MB\n",
      "None\n",
      "\n",
      " Missing values information \n",
      "\n",
      "                       column_name  percent_missing\n",
      "long_description  long_description        68.646687\n",
      "gender                      gender        41.865226\n",
      "brand                        brand        35.096383\n",
      "alt_titles              alt_titles        35.009983\n",
      "entities                  entities        35.009983\n",
      "tags                          tags        35.009983\n",
      "title                        title        35.009983\n",
      "\n",
      " List of columns with missing values now : []\n"
     ]
    },
    {
     "name": "stderr",
     "output_type": "stream",
     "text": [
      "C:\\ProgramData\\Anaconda3\\lib\\site-packages\\sklearn\\preprocessing\\data.py:334: DataConversionWarning: Data with input dtype int32 were all converted to float64 by MinMaxScaler.\n",
      "  return self.partial_fit(X, y)\n"
     ]
    }
   ],
   "source": [
    "target_col = 'gender'\n",
    "\n",
    "df_train = prep_Data(df_train)\n",
    "df_train = imputeNulls(df_train)\n",
    "df_train = encode_cols(df_train,target_col=target_col)\n",
    "\n",
    "\n",
    "scaler = MinMaxScaler()\n",
    "df_train = scale_cols(df_train,scaler,[target_col])"
   ]
  },
  {
   "cell_type": "code",
   "execution_count": 80,
   "metadata": {},
   "outputs": [
    {
     "data": {
      "text/html": [
       "<div>\n",
       "<style scoped>\n",
       "    .dataframe tbody tr th:only-of-type {\n",
       "        vertical-align: middle;\n",
       "    }\n",
       "\n",
       "    .dataframe tbody tr th {\n",
       "        vertical-align: top;\n",
       "    }\n",
       "\n",
       "    .dataframe thead th {\n",
       "        text-align: right;\n",
       "    }\n",
       "</style>\n",
       "<table border=\"1\" class=\"dataframe\">\n",
       "  <thead>\n",
       "    <tr style=\"text-align: right;\">\n",
       "      <th></th>\n",
       "      <th>link</th>\n",
       "      <th>gender</th>\n",
       "      <th>alt_titles</th>\n",
       "      <th>brand</th>\n",
       "      <th>entities</th>\n",
       "      <th>long_description</th>\n",
       "      <th>tags</th>\n",
       "      <th>title</th>\n",
       "    </tr>\n",
       "  </thead>\n",
       "  <tbody>\n",
       "    <tr>\n",
       "      <th>0</th>\n",
       "      <td>0.10354</td>\n",
       "      <td>1</td>\n",
       "      <td>0.0</td>\n",
       "      <td>0.759825</td>\n",
       "      <td>0.0</td>\n",
       "      <td>0.0</td>\n",
       "      <td>0.0</td>\n",
       "      <td>0.261485</td>\n",
       "    </tr>\n",
       "    <tr>\n",
       "      <th>1</th>\n",
       "      <td>0.10354</td>\n",
       "      <td>1</td>\n",
       "      <td>0.0</td>\n",
       "      <td>0.759825</td>\n",
       "      <td>0.0</td>\n",
       "      <td>0.0</td>\n",
       "      <td>0.0</td>\n",
       "      <td>0.261485</td>\n",
       "    </tr>\n",
       "    <tr>\n",
       "      <th>2</th>\n",
       "      <td>0.10354</td>\n",
       "      <td>1</td>\n",
       "      <td>0.0</td>\n",
       "      <td>0.759825</td>\n",
       "      <td>0.0</td>\n",
       "      <td>0.0</td>\n",
       "      <td>0.0</td>\n",
       "      <td>0.261485</td>\n",
       "    </tr>\n",
       "    <tr>\n",
       "      <th>3</th>\n",
       "      <td>0.10354</td>\n",
       "      <td>1</td>\n",
       "      <td>0.0</td>\n",
       "      <td>0.759825</td>\n",
       "      <td>0.0</td>\n",
       "      <td>0.0</td>\n",
       "      <td>0.0</td>\n",
       "      <td>0.261485</td>\n",
       "    </tr>\n",
       "    <tr>\n",
       "      <th>4</th>\n",
       "      <td>0.10354</td>\n",
       "      <td>0</td>\n",
       "      <td>0.0</td>\n",
       "      <td>0.759825</td>\n",
       "      <td>0.0</td>\n",
       "      <td>0.0</td>\n",
       "      <td>0.0</td>\n",
       "      <td>0.261485</td>\n",
       "    </tr>\n",
       "  </tbody>\n",
       "</table>\n",
       "</div>"
      ],
      "text/plain": [
       "      link  gender  alt_titles     brand  entities  long_description  tags  \\\n",
       "0  0.10354       1         0.0  0.759825       0.0               0.0   0.0   \n",
       "1  0.10354       1         0.0  0.759825       0.0               0.0   0.0   \n",
       "2  0.10354       1         0.0  0.759825       0.0               0.0   0.0   \n",
       "3  0.10354       1         0.0  0.759825       0.0               0.0   0.0   \n",
       "4  0.10354       0         0.0  0.759825       0.0               0.0   0.0   \n",
       "\n",
       "      title  \n",
       "0  0.261485  \n",
       "1  0.261485  \n",
       "2  0.261485  \n",
       "3  0.261485  \n",
       "4  0.261485  "
      ]
     },
     "execution_count": 80,
     "metadata": {},
     "output_type": "execute_result"
    }
   ],
   "source": [
    "df_train.head()"
   ]
  },
  {
   "cell_type": "code",
   "execution_count": 58,
   "metadata": {
    "scrolled": true
   },
   "outputs": [
    {
     "data": {
      "image/png": "[encoded data removed]",
      "text/plain": [
       "<Figure size 864x1296 with 1 Axes>"
      ]
     },
     "metadata": {
      "needs_background": "light"
     },
     "output_type": "display_data"
    }
   ],
   "source": [
    "# plot a graph of feature importance and view thresholds\n",
    "pltclf,X1,y1 = plot_feature_imp(df_train,target_col)"
   ]
  },
  {
   "cell_type": "code",
   "execution_count": 59,
   "metadata": {},
   "outputs": [
    {
     "data": {
      "image/png": "[encoded data removed]",
      "text/plain": [
       "<Figure size 864x1152 with 2 Axes>"
      ]
     },
     "metadata": {
      "needs_background": "light"
     },
     "output_type": "display_data"
    }
   ],
   "source": [
    "plot_corr(df_train)"
   ]
  },
  {
   "cell_type": "code",
   "execution_count": 81,
   "metadata": {
    "scrolled": true
   },
   "outputs": [
    {
     "name": "stdout",
     "output_type": "stream",
     "text": [
      "\n",
      " Check target class distribution \n",
      "\n",
      "col_0    count    percent\n",
      "gender                   \n",
      "0        41180  10.433875\n",
      "1       353496  89.566125\n"
     ]
    },
    {
     "data": {
      "image/png": "[encoded data removed]",
      "text/plain": [
       "<Figure size 432x288 with 1 Axes>"
      ]
     },
     "metadata": {
      "needs_background": "light"
     },
     "output_type": "display_data"
    }
   ],
   "source": [
    "df_train.drop(['alt_titles','brand','entities'],1,inplace=True)\n",
    "# view class distribution of target, this will affect sampling\n",
    "class_dist(df_train,target_col)"
   ]
  },
  {
   "cell_type": "code",
   "execution_count": 61,
   "metadata": {},
   "outputs": [
    {
     "name": "stderr",
     "output_type": "stream",
     "text": [
      "C:\\ProgramData\\Anaconda3\\lib\\site-packages\\deap\\creator.py:141: RuntimeWarning: A class named 'FeatureSelect' has already been created and it will be overwritten. Consider deleting previous creation of that class or rename it.\n",
      "  RuntimeWarning)\n",
      "C:\\ProgramData\\Anaconda3\\lib\\site-packages\\deap\\creator.py:141: RuntimeWarning: A class named 'Individual' has already been created and it will be overwritten. Consider deleting previous creation of that class or rename it.\n",
      "  RuntimeWarning)\n",
      "C:\\ProgramData\\Anaconda3\\lib\\site-packages\\sklearn\\ensemble\\forest.py:246: FutureWarning: The default value of n_estimators will change from 10 in version 0.20 to 100 in 0.22.\n",
      "  \"10 in version 0.20 to 100 in 0.22.\", FutureWarning)\n"
     ]
    },
    {
     "name": "stdout",
     "output_type": "stream",
     "text": [
      "EVOLVING.......\n",
      "-- GENERATION 1 --\n",
      "Evaluated 56 weak individuals\n",
      "-- GENERATION 2 --\n",
      "Evaluated 54 weak individuals\n",
      "-- GENERATION 3 --\n",
      "Evaluated 59 weak individuals\n",
      "-- GENERATION 4 --\n",
      "Evaluated 60 weak individuals\n",
      "-- GENERATION 5 --\n",
      "Evaluated 53 weak individuals\n",
      "-- Only the fittest survives --\n",
      "Best individual is [1, 1, 0, 0, 1], (0.6874833199893247,)\n",
      "\n",
      " Columns retained after Genetic Selection Algorithm are: \n",
      " ['link', 'entities', 'title']\n",
      "\n",
      " 3 columns retained out of 5 \n",
      "\n"
     ]
    }
   ],
   "source": [
    "df_train = reduce_dims(df_train,target_col)"
   ]
  },
  {
   "cell_type": "code",
   "execution_count": 82,
   "metadata": {},
   "outputs": [
    {
     "name": "stdout",
     "output_type": "stream",
     "text": [
      "\n",
      " No: of predictor variables is: 4 and no:of observations for training is: 706992 \n",
      "\n"
     ]
    }
   ],
   "source": [
    "# class distribution is imbalanced , hence resampling is required\n",
    "X,y,model_cols = create_Xy(df_train,target_col,imbalance = 'Y')"
   ]
  },
  {
   "cell_type": "markdown",
   "metadata": {},
   "source": [
    "> Stage 3: <b> Build and Train model for accuracy </b>"
   ]
  },
  {
   "cell_type": "code",
   "execution_count": 83,
   "metadata": {},
   "outputs": [
    {
     "name": "stdout",
     "output_type": "stream",
     "text": [
      "Train on 636292 samples, validate on 70700 samples\n",
      "Epoch 1/10\n",
      "636292/636292 [==============================] - 126s 198us/step - loss: 0.6687 - acc: 0.5907 - val_loss: 0.6596 - val_acc: 0.6011\n",
      "\n",
      "Epoch 00001: val_acc improved from -inf to 0.60110, saving model to best_model.h5\n",
      "Epoch 2/10\n",
      "636292/636292 [==============================] - 46s 72us/step - loss: 0.6669 - acc: 0.5911 - val_loss: 0.6589 - val_acc: 0.6013\n",
      "\n",
      "Epoch 00002: val_acc improved from 0.60110 to 0.60134, saving model to best_model.h5\n",
      "Epoch 3/10\n",
      "636292/636292 [==============================] - 44s 69us/step - loss: 0.6660 - acc: 0.5907 - val_loss: 0.6585 - val_acc: 0.6001\n",
      "\n",
      "Epoch 00003: val_acc did not improve from 0.60134\n",
      "Epoch 4/10\n",
      "636292/636292 [==============================] - 42s 66us/step - loss: 0.6662 - acc: 0.5906 - val_loss: 0.6586 - val_acc: 0.6004\n",
      "\n",
      "Epoch 00004: val_acc did not improve from 0.60134\n",
      "Epoch 00004: early stopping\n",
      "Train: 0.600, Test: 0.600\n"
     ]
    },
    {
     "data": {
      "image/png": "[encoded data removed]",
      "text/plain": [
       "<Figure size 432x288 with 1 Axes>"
      ]
     },
     "metadata": {
      "needs_background": "light"
     },
     "output_type": "display_data"
    },
    {
     "name": "stdout",
     "output_type": "stream",
     "text": [
      "\n",
      " Best F1 score for CV fold no:1 was:0.5712314248500121\n",
      "\n",
      "Train on 636292 samples, validate on 70700 samples\n",
      "Epoch 1/10\n",
      "636292/636292 [==============================] - 43s 67us/step - loss: 0.6665 - acc: 0.5913 - val_loss: 0.6598 - val_acc: 0.5967\n",
      "\n",
      "Epoch 00001: val_acc improved from -inf to 0.59669, saving model to best_model.h5\n",
      "Epoch 2/10\n",
      "636292/636292 [==============================] - 43s 67us/step - loss: 0.6659 - acc: 0.5908 - val_loss: 0.6584 - val_acc: 0.5991\n",
      "\n",
      "Epoch 00002: val_acc improved from 0.59669 to 0.59909, saving model to best_model.h5\n",
      "Epoch 3/10\n",
      "636292/636292 [==============================] - 45s 70us/step - loss: 0.6659 - acc: 0.5903 - val_loss: 0.6588 - val_acc: 0.5991\n",
      "\n",
      "Epoch 00003: val_acc did not improve from 0.59909\n",
      "Epoch 00003: early stopping\n",
      "Train: 0.600, Test: 0.599\n"
     ]
    },
    {
     "data": {
      "image/png": "[encoded data removed]",
      "text/plain": [
       "<Figure size 432x288 with 1 Axes>"
      ]
     },
     "metadata": {
      "needs_background": "light"
     },
     "output_type": "display_data"
    },
    {
     "name": "stdout",
     "output_type": "stream",
     "text": [
      "\n",
      " Best F1 score for CV fold no:2 was:0.5696199831102413\n",
      "\n",
      "Train on 636292 samples, validate on 70700 samples\n",
      "Epoch 1/10\n",
      "636292/636292 [==============================] - 45s 72us/step - loss: 0.6660 - acc: 0.5901 - val_loss: 0.6583 - val_acc: 0.6000\n",
      "\n",
      "Epoch 00001: val_acc improved from -inf to 0.59999, saving model to best_model.h5\n",
      "Epoch 2/10\n",
      "636292/636292 [==============================] - 49s 77us/step - loss: 0.6656 - acc: 0.5899 - val_loss: 0.6584 - val_acc: 0.5996\n",
      "\n",
      "Epoch 00002: val_acc did not improve from 0.59999\n",
      "Epoch 00002: early stopping\n",
      "Train: 0.600, Test: 0.600\n"
     ]
    },
    {
     "data": {
      "image/png": "[encoded data removed]",
      "text/plain": [
       "<Figure size 432x288 with 1 Axes>"
      ]
     },
     "metadata": {
      "needs_background": "light"
     },
     "output_type": "display_data"
    },
    {
     "name": "stdout",
     "output_type": "stream",
     "text": [
      "\n",
      " Best F1 score for CV fold no:3 was:0.5701567380386918\n",
      "\n",
      "Train on 636292 samples, validate on 70700 samples\n",
      "Epoch 1/10\n",
      "636292/636292 [==============================] - 45s 70us/step - loss: 0.6661 - acc: 0.5901 - val_loss: 0.6587 - val_acc: 0.5980\n",
      "\n",
      "Epoch 00001: val_acc improved from -inf to 0.59803, saving model to best_model.h5\n",
      "Epoch 2/10\n",
      "636292/636292 [==============================] - 42s 65us/step - loss: 0.6659 - acc: 0.5902 - val_loss: 0.6576 - val_acc: 0.6002\n",
      "\n",
      "Epoch 00002: val_acc improved from 0.59803 to 0.60017, saving model to best_model.h5\n",
      "Epoch 3/10\n",
      "636292/636292 [==============================] - 41s 65us/step - loss: 0.6660 - acc: 0.5897 - val_loss: 0.6589 - val_acc: 0.6001\n",
      "\n",
      "Epoch 00003: val_acc did not improve from 0.60017\n",
      "Epoch 00003: early stopping\n",
      "Train: 0.599, Test: 0.600\n"
     ]
    },
    {
     "data": {
      "image/png": "[encoded data removed]",
      "text/plain": [
       "<Figure size 432x288 with 1 Axes>"
      ]
     },
     "metadata": {
      "needs_background": "light"
     },
     "output_type": "display_data"
    },
    {
     "name": "stdout",
     "output_type": "stream",
     "text": [
      "\n",
      " Best F1 score for CV fold no:4 was:0.5711582090531219\n",
      "\n",
      "Train on 636292 samples, validate on 70700 samples\n",
      "Epoch 1/10\n",
      "636292/636292 [==============================] - 47s 73us/step - loss: 0.6660 - acc: 0.5899 - val_loss: 0.6571 - val_acc: 0.6023\n",
      "\n",
      "Epoch 00001: val_acc improved from -inf to 0.60229, saving model to best_model.h5\n",
      "Epoch 2/10\n",
      "636292/636292 [==============================] - 43s 67us/step - loss: 0.6660 - acc: 0.5900 - val_loss: 0.6576 - val_acc: 0.6011\n",
      "\n",
      "Epoch 00002: val_acc did not improve from 0.60229\n",
      "Epoch 00002: early stopping\n",
      "Train: 0.600, Test: 0.601\n"
     ]
    },
    {
     "data": {
      "image/png": "[encoded data removed]",
      "text/plain": [
       "<Figure size 432x288 with 1 Axes>"
      ]
     },
     "metadata": {
      "needs_background": "light"
     },
     "output_type": "display_data"
    },
    {
     "name": "stdout",
     "output_type": "stream",
     "text": [
      "\n",
      " Best F1 score for CV fold no:5 was:0.5725959089493943\n",
      "\n",
      "Train on 636292 samples, validate on 70700 samples\n",
      "Epoch 1/10\n",
      "636292/636292 [==============================] - 44s 70us/step - loss: 0.6659 - acc: 0.5899 - val_loss: 0.6586 - val_acc: 0.5971\n",
      "\n",
      "Epoch 00001: val_acc improved from -inf to 0.59707, saving model to best_model.h5\n",
      "Epoch 2/10\n",
      "636292/636292 [==============================] - 43s 68us/step - loss: 0.6659 - acc: 0.5899 - val_loss: 0.6577 - val_acc: 0.6010\n",
      "\n",
      "Epoch 00002: val_acc improved from 0.59707 to 0.60102, saving model to best_model.h5\n",
      "Epoch 3/10\n",
      "636292/636292 [==============================] - 42s 65us/step - loss: 0.6660 - acc: 0.5900 - val_loss: 0.6576 - val_acc: 0.6021\n",
      "\n",
      "Epoch 00003: val_acc improved from 0.60102 to 0.60205, saving model to best_model.h5\n",
      "Epoch 4/10\n",
      "636292/636292 [==============================] - 44s 69us/step - loss: 0.6658 - acc: 0.5903 - val_loss: 0.6573 - val_acc: 0.6022\n",
      "\n",
      "Epoch 00004: val_acc improved from 0.60205 to 0.60222, saving model to best_model.h5\n",
      "Epoch 5/10\n",
      "636292/636292 [==============================] - 41s 65us/step - loss: 0.6661 - acc: 0.5898 - val_loss: 0.6571 - val_acc: 0.6005\n",
      "\n",
      "Epoch 00005: val_acc did not improve from 0.60222\n",
      "Epoch 6/10\n",
      "636292/636292 [==============================] - 42s 65us/step - loss: 0.6661 - acc: 0.5894 - val_loss: 0.6579 - val_acc: 0.6024\n",
      "\n",
      "Epoch 00006: val_acc improved from 0.60222 to 0.60243, saving model to best_model.h5\n",
      "Epoch 00006: early stopping\n",
      "Train: 0.601, Test: 0.602\n"
     ]
    },
    {
     "data": {
      "image/png": "[encoded data removed]",
      "text/plain": [
       "<Figure size 432x288 with 1 Axes>"
      ]
     },
     "metadata": {
      "needs_background": "light"
     },
     "output_type": "display_data"
    },
    {
     "name": "stdout",
     "output_type": "stream",
     "text": [
      "\n",
      " Best F1 score for CV fold no:6 was:0.5766234421602597\n",
      "\n",
      "Train on 636294 samples, validate on 70698 samples\n",
      "Epoch 1/10\n",
      "636294/636294 [==============================] - 49s 77us/step - loss: 0.6659 - acc: 0.5900 - val_loss: 0.6571 - val_acc: 0.6032\n",
      "\n",
      "Epoch 00001: val_acc improved from -inf to 0.60320, saving model to best_model.h5\n",
      "Epoch 2/10\n",
      "636294/636294 [==============================] - 43s 68us/step - loss: 0.6663 - acc: 0.5894 - val_loss: 0.6583 - val_acc: 0.5984\n",
      "\n",
      "Epoch 00002: val_acc did not improve from 0.60320\n",
      "Epoch 00002: early stopping\n",
      "Train: 0.597, Test: 0.598\n"
     ]
    },
    {
     "data": {
      "image/png": "[encoded data removed]",
      "text/plain": [
       "<Figure size 432x288 with 1 Axes>"
      ]
     },
     "metadata": {
      "needs_background": "light"
     },
     "output_type": "display_data"
    },
    {
     "name": "stdout",
     "output_type": "stream",
     "text": [
      "\n",
      " Best F1 score for CV fold no:7 was:0.5663123146021577\n",
      "\n",
      "Train on 636294 samples, validate on 70698 samples\n",
      "Epoch 1/10\n",
      "636294/636294 [==============================] - 47s 73us/step - loss: 0.6656 - acc: 0.5900 - val_loss: 0.6589 - val_acc: 0.5996\n",
      "\n",
      "Epoch 00001: val_acc improved from -inf to 0.59958, saving model to best_model.h5\n",
      "Epoch 2/10\n",
      "636294/636294 [==============================] - 48s 75us/step - loss: 0.6659 - acc: 0.5896 - val_loss: 0.6583 - val_acc: 0.6020\n",
      "\n",
      "Epoch 00002: val_acc improved from 0.59958 to 0.60200, saving model to best_model.h5\n",
      "Epoch 3/10\n",
      "636294/636294 [==============================] - 49s 76us/step - loss: 0.6658 - acc: 0.5899 - val_loss: 0.6591 - val_acc: 0.5953\n",
      "\n",
      "Epoch 00003: val_acc did not improve from 0.60200\n",
      "Epoch 00003: early stopping\n",
      "Train: 0.595, Test: 0.595\n"
     ]
    },
    {
     "data": {
      "image/png": "[encoded data removed]",
      "text/plain": [
       "<Figure size 432x288 with 1 Axes>"
      ]
     },
     "metadata": {
      "needs_background": "light"
     },
     "output_type": "display_data"
    },
    {
     "name": "stdout",
     "output_type": "stream",
     "text": [
      "\n",
      " Best F1 score for CV fold no:8 was:0.5622247585536473\n",
      "\n",
      "Train on 636294 samples, validate on 70698 samples\n",
      "Epoch 1/10\n",
      "636294/636294 [==============================] - 46s 73us/step - loss: 0.6662 - acc: 0.5897 - val_loss: 0.6581 - val_acc: 0.5990\n",
      "\n",
      "Epoch 00001: val_acc improved from -inf to 0.59898, saving model to best_model.h5\n",
      "Epoch 2/10\n",
      "636294/636294 [==============================] - 43s 67us/step - loss: 0.6660 - acc: 0.5900 - val_loss: 0.6578 - val_acc: 0.6008\n",
      "\n",
      "Epoch 00002: val_acc improved from 0.59898 to 0.60078, saving model to best_model.h5\n",
      "Epoch 3/10\n",
      "636294/636294 [==============================] - 45s 71us/step - loss: 0.6661 - acc: 0.5903 - val_loss: 0.6586 - val_acc: 0.5979\n",
      "\n",
      "Epoch 00003: val_acc did not improve from 0.60078\n",
      "Epoch 00003: early stopping\n",
      "Train: 0.600, Test: 0.598\n"
     ]
    },
    {
     "data": {
      "image/png": "[encoded data removed]",
      "text/plain": [
       "<Figure size 432x288 with 1 Axes>"
      ]
     },
     "metadata": {
      "needs_background": "light"
     },
     "output_type": "display_data"
    },
    {
     "name": "stdout",
     "output_type": "stream",
     "text": [
      "\n",
      " Best F1 score for CV fold no:9 was:0.5692716859976159\n",
      "\n",
      "Train on 636294 samples, validate on 70698 samples\n",
      "Epoch 1/10\n",
      "636294/636294 [==============================] - 46s 72us/step - loss: 0.6661 - acc: 0.5896 - val_loss: 0.6575 - val_acc: 0.6002\n",
      "\n",
      "Epoch 00001: val_acc improved from -inf to 0.60016, saving model to best_model.h5\n",
      "Epoch 2/10\n",
      "636294/636294 [==============================] - 45s 70us/step - loss: 0.6662 - acc: 0.5900 - val_loss: 0.6573 - val_acc: 0.5986\n",
      "\n",
      "Epoch 00002: val_acc did not improve from 0.60016\n",
      "Epoch 3/10\n",
      "636294/636294 [==============================] - 42s 67us/step - loss: 0.6660 - acc: 0.5900 - val_loss: 0.6579 - val_acc: 0.6012\n",
      "\n",
      "Epoch 00003: val_acc improved from 0.60016 to 0.60118, saving model to best_model.h5\n",
      "Epoch 00003: early stopping\n",
      "Train: 0.602, Test: 0.601\n"
     ]
    },
    {
     "data": {
      "image/png": "[encoded data removed]",
      "text/plain": [
       "<Figure size 432x288 with 1 Axes>"
      ]
     },
     "metadata": {
      "needs_background": "light"
     },
     "output_type": "display_data"
    },
    {
     "name": "stdout",
     "output_type": "stream",
     "text": [
      "\n",
      " Best F1 score for CV fold no:10 was:0.5751831571693857\n",
      "\n",
      "\n",
      " Best Model has the following scores :\n",
      "\n",
      "Train: 0.602, Test: 0.601\n",
      "\n",
      "Final F1 score:  0.57 \n",
      "- - - - -  \n",
      "\n",
      "Elapsed Training Time approx :31.098886277333317 minutes\n"
     ]
    }
   ],
   "source": [
    "# Initialize and train a Neural network Classfier model\n",
    "neural_network = creatNN(len(model_cols),X.shape[0])\n",
    "\n",
    "# store it as the best model till now\n",
    "best_clfname = 'neural_network'\n",
    "\n",
    "# Create classifier, train it and test it.\n",
    "start_time = timeit.default_timer()   \n",
    "       \n",
    "# calculate accuracy \n",
    "bestF1,best_clf = F1_score(neural_network,X,y,nn='Y')\n",
    "print (\"\\nFinal F1 score: \", round(bestF1, 3), \"\\n- - - - - \", \"\\n\")\n",
    "print('Elapsed Training Time approx :{} minutes'.format((timeit.default_timer() - start_time)/60))"
   ]
  },
  {
   "cell_type": "markdown",
   "metadata": {},
   "source": [
    "> Stage 4: <b> use Best Model to predict segment on Test Data </b>"
   ]
  },
  {
   "cell_type": "code",
   "execution_count": 84,
   "metadata": {
    "scrolled": true
   },
   "outputs": [
    {
     "data": {
      "text/plain": [
       "(88384, 1)"
      ]
     },
     "execution_count": 84,
     "metadata": {},
     "output_type": "execute_result"
    }
   ],
   "source": [
    "# Load the Testing data file with UserId and Actual Gender information\n",
    "filename = 'UserId_Test.csv'\n",
    "predictor = 'userid'\n",
    "\n",
    "df_userId_Test = pd.read_csv(filename)\n",
    "df_userId_Test = dedup_data(df_userId_Test)\n",
    "df_userId_Test.shape"
   ]
  },
  {
   "cell_type": "markdown",
   "metadata": {},
   "source": [
    "##### Prepare the Test File by taking information from previously loaded files"
   ]
  },
  {
   "cell_type": "code",
   "execution_count": 85,
   "metadata": {},
   "outputs": [],
   "source": [
    "#1. First, merge gender UserID to UserID to URL data using UserId as the key(Index)\n",
    "\n",
    "df_test = df_userId_Test.set_index('userid')\n",
    "\n",
    "# perform left outer join to retain all data in the training(UserID, Gender) file\n",
    "df_test = df_test.merge(df_userId_url, on='userid',how='outer')\n",
    "\n",
    "df_test.reset_index(inplace=True)\n",
    "\n",
    "df_test = dedup_data(df_test) # dedupe again after the join\n",
    "\n",
    "#2. Next, merge UserID gender and URL file to URL data using url and link as keys(Index)\n",
    "\n",
    "df_test.set_index('url',inplace=True) # set index to key column for merge\n",
    "\n",
    "# perform left outer join to retain all data in the training(UserID, Gender) file\n",
    "df_test = df_test.merge(df_urls_data, right_on='link',left_index=True,how='outer')\n",
    "\n",
    "df_test.reset_index(inplace=True)\n",
    "\n",
    "df_test = dedup_data(df_test,keylist=['userid']) # final dedupe again after all joins"
   ]
  },
  {
   "cell_type": "code",
   "execution_count": 86,
   "metadata": {
    "scrolled": true
   },
   "outputs": [
    {
     "data": {
      "text/plain": [
       "317828"
      ]
     },
     "execution_count": 86,
     "metadata": {},
     "output_type": "execute_result"
    }
   ],
   "source": [
    "df_test.userid.nunique()"
   ]
  },
  {
   "cell_type": "markdown",
   "metadata": {},
   "source": [
    "#### Preprocess test data exactly as done for training"
   ]
  },
  {
   "cell_type": "code",
   "execution_count": 87,
   "metadata": {},
   "outputs": [
    {
     "name": "stdout",
     "output_type": "stream",
     "text": [
      "\n",
      " Basic Metadata \n",
      "\n",
      "<class 'pandas.core.frame.DataFrame'>\n",
      "Int64Index: 317829 entries, 0 to 317828\n",
      "Data columns (total 8 columns):\n",
      "link                317829 non-null object\n",
      "userid              317828 non-null float64\n",
      "alt_titles          179653 non-null object\n",
      "brand               179604 non-null object\n",
      "entities            179653 non-null object\n",
      "long_description    64549 non-null object\n",
      "tags                179653 non-null object\n",
      "title               179653 non-null object\n",
      "dtypes: float64(1), object(7)\n",
      "memory usage: 21.8+ MB\n",
      "None\n",
      "\n",
      " Missing values information \n",
      "\n",
      "                       column_name  percent_missing\n",
      "long_description  long_description        79.690651\n",
      "brand                        brand        43.490367\n",
      "alt_titles              alt_titles        43.474950\n",
      "entities                  entities        43.474950\n",
      "tags                          tags        43.474950\n",
      "title                        title        43.474950\n",
      "userid                      userid         0.000315\n",
      "\n",
      " List of columns with missing values now : []\n"
     ]
    },
    {
     "name": "stderr",
     "output_type": "stream",
     "text": [
      "C:\\ProgramData\\Anaconda3\\lib\\site-packages\\sklearn\\preprocessing\\data.py:334: DataConversionWarning: Data with input dtype int32 were all converted to float64 by MinMaxScaler.\n",
      "  return self.partial_fit(X, y)\n"
     ]
    }
   ],
   "source": [
    "df_test = prep_Data(df_test)\n",
    "df_test = imputeNulls(df_test)\n",
    "df_test = encode_cols(df_test)\n",
    "\n",
    "\n",
    "scaler = MinMaxScaler()\n",
    "df_test = scale_cols(df_test,scaler,[predictor,target_col])"
   ]
  },
  {
   "cell_type": "code",
   "execution_count": 88,
   "metadata": {},
   "outputs": [
    {
     "data": {
      "text/plain": [
       "317829"
      ]
     },
     "execution_count": 88,
     "metadata": {},
     "output_type": "execute_result"
    }
   ],
   "source": [
    "df_test.userid.nunique()"
   ]
  },
  {
   "cell_type": "code",
   "execution_count": 89,
   "metadata": {},
   "outputs": [],
   "source": [
    "# predict classes and store in a column called 'gender'\n",
    "df_test[target_col]= best_clf.predict(df_test[model_cols])\n",
    "\n",
    "df_test[target_col] = df_test[target_col].apply(lambda x:'F' if x==0 else 'M')\n",
    "#write the output file to disk\n",
    "outfilename = 'application_test_predict.csv'\n",
    "df_test[[predictor,target_col]].to_csv(outfilename,index=False)"
   ]
  }
 ],
 "metadata": {
  "kernelspec": {
   "display_name": "Python 3",
   "language": "python",
   "name": "python3"
  },
  "language_info": {
   "codemirror_mode": {
    "name": "ipython",
    "version": 3
   },
   "file_extension": ".py",
   "mimetype": "text/x-python",
   "name": "python",
   "nbconvert_exporter": "python",
   "pygments_lexer": "ipython3",
   "version": "3.7.3"
  }
 },
 "nbformat": 4,
 "nbformat_minor": 2
}
